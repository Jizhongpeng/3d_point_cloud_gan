{
 "cells": [
  {
   "cell_type": "code",
   "execution_count": 12,
   "metadata": {},
   "outputs": [],
   "source": [
    "from open3d import *\n",
    "import pcl\n",
    "import numpy as np\n",
    "import os\n",
    "import pptk # HERE visualization tool\n",
    "import pcl.pcl_visualization # PCL visualization tool"
   ]
  },
  {
   "cell_type": "code",
   "execution_count": 13,
   "metadata": {},
   "outputs": [
    {
     "data": {
      "text/plain": [
       "'/home/msr/Desktop/3d_point_cloud_gan'"
      ]
     },
     "execution_count": 13,
     "metadata": {},
     "output_type": "execute_result"
    }
   ],
   "source": [
    "# path to a particular point-cloud object\n",
    "# fname = '/home/jonathan/Desktop/univ_wash_rgbd/apple_1_1_1.pcd' \n",
    "apple_1 = '/home/msr/Desktop/3d_point_cloud_gan/apple_1_1_1.pcd'\n",
    "\n",
    "# confirm current directory\n",
    "# os.getcwd()"
   ]
  },
  {
   "cell_type": "code",
   "execution_count": 23,
   "metadata": {},
   "outputs": [
    {
     "name": "stdout",
     "output_type": "stream",
     "text": [
      "PointCloud with 3161 points.\n",
      "X Y Z values...\n",
      "[[-0.00776376  0.73799998  0.02846712]\n",
      " [-0.0064698   0.73799998  0.02846712]\n",
      " [-0.00517584  0.73799998  0.02846712]\n",
      " ...\n",
      " [-0.01398283  0.72500002 -0.0572025 ]\n",
      " [-0.01271167  0.72500002 -0.0572025 ]\n",
      " [-0.0114405   0.72500002 -0.0572025 ]]\n"
     ]
    }
   ],
   "source": [
    "# testing different point cloud libraries\n",
    "\n",
    "# pcl\n",
    "# cloud = pcl.load(fname,format='pcd')\n",
    "# print ('Loaded ' + str(cloud.width * cloud.height) + ' data points from ' + fname + ' with the following fields: ')\n",
    "# for i in range(0, cloud.size):\n",
    "#     print ('x: '  + str(cloud[i][0]) + ', y : ' + str(cloud[i][1])  + ', z : ' + str(cloud[i][2]))\n",
    "\n",
    "# open3d - apple view 1\n",
    "cloud_1 = read_point_cloud(apple_1)\n",
    "print(cloud_1)\n",
    "\n",
    "print(\"X Y Z values...\")\n",
    "print(np.asarray(cloud_1.points))\n",
    "\n",
    "draw_geometries([cloud_1])"
   ]
  },
  {
   "cell_type": "code",
   "execution_count": 25,
   "metadata": {},
   "outputs": [
    {
     "name": "stdout",
     "output_type": "stream",
     "text": [
      "PointCloud with 3172 points.\n",
      "X Y Z values...\n",
      "[[-0.00647857  0.73900002  0.02850569]\n",
      " [-0.00518285  0.73900002  0.02850569]\n",
      " [-0.00388188  0.73799998  0.02846712]\n",
      " ...\n",
      " [-0.0126766   0.72299999 -0.0570447 ]\n",
      " [-0.01140894  0.72299999 -0.0570447 ]\n",
      " [-0.01014128  0.72299999 -0.0570447 ]]\n"
     ]
    }
   ],
   "source": [
    "# open3d - apple view 2\n",
    "apple_2 = '/home/msr/Desktop/3d_point_cloud_gan/apple_1_1_2.pcd'\n",
    "cloud_2 = read_point_cloud(apple_2)\n",
    "print(cloud_2)\n",
    "\n",
    "print(\"X Y Z values...\")\n",
    "print(np.asarray(cloud_2.points))\n",
    "\n",
    "draw_geometries([cloud_2])\n"
   ]
  },
  {
   "cell_type": "code",
   "execution_count": 26,
   "metadata": {},
   "outputs": [
    {
     "name": "stdout",
     "output_type": "stream",
     "text": [
      "PointCloud with 3198 points.\n",
      "X Y Z values...\n",
      "[[-0.00516181  0.736       0.02838997]\n",
      " [-0.00387136  0.736       0.02838997]\n",
      " [-0.00258091  0.736       0.02838997]\n",
      " ...\n",
      " [-0.015254    0.72500002 -0.0572025 ]\n",
      " [-0.01394426  0.72299999 -0.0570447 ]\n",
      " [-0.0126766   0.72299999 -0.0570447 ]]\n"
     ]
    }
   ],
   "source": [
    "# open3d - apple view 3\n",
    "apple_3 = '/home/msr/Desktop/3d_point_cloud_gan/apple_1_1_3.pcd'\n",
    "cloud_3 = read_point_cloud(apple_3)\n",
    "print(cloud_3)\n",
    "\n",
    "print(\"X Y Z values...\")\n",
    "print(np.asarray(cloud_3.points))\n",
    "\n",
    "draw_geometries([cloud_3])"
   ]
  },
  {
   "cell_type": "code",
   "execution_count": null,
   "metadata": {},
   "outputs": [],
   "source": []
  }
 ],
 "metadata": {
  "kernelspec": {
   "display_name": "Python 3",
   "language": "python",
   "name": "python3"
  },
  "language_info": {
   "codemirror_mode": {
    "name": "ipython",
    "version": 3
   },
   "file_extension": ".py",
   "mimetype": "text/x-python",
   "name": "python",
   "nbconvert_exporter": "python",
   "pygments_lexer": "ipython3",
   "version": "3.6.8"
  }
 },
 "nbformat": 4,
 "nbformat_minor": 2
}
